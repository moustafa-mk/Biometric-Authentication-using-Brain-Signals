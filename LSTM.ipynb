{
  "nbformat": 4,
  "nbformat_minor": 0,
  "metadata": {
    "colab": {
      "name": "LSTM.ipynb",
      "provenance": [],
      "collapsed_sections": [],
      "mount_file_id": "1s_PcpI-Ys8V2TKq62cYN4liFsU3NUTBj",
      "authorship_tag": "ABX9TyMjpgvrQKifezYZf7gysWXM",
      "include_colab_link": true
    },
    "kernelspec": {
      "name": "python3",
      "display_name": "Python 3"
    },
    "language_info": {
      "name": "python"
    },
    "accelerator": "GPU"
  },
  "cells": [
    {
      "cell_type": "markdown",
      "metadata": {
        "id": "view-in-github",
        "colab_type": "text"
      },
      "source": [
        "<a href=\"https://colab.research.google.com/github/moustafa-mk/Biometric-Authentication-using-Brain-Signals/blob/main/LSTM.ipynb\" target=\"_parent\"><img src=\"https://colab.research.google.com/assets/colab-badge.svg\" alt=\"Open In Colab\"/></a>"
      ]
    },
    {
      "cell_type": "code",
      "metadata": {
        "id": "c8YMEyK79LB1"
      },
      "source": [
        "import pandas as pd\n",
        "import numpy as np\n",
        "import scipy.io\n",
        "from sklearn.model_selection import train_test_split\n",
        "from keras.models import Sequential\n",
        "from keras.layers import Dense\n",
        "from keras.layers import Flatten\n",
        "from keras.layers import Dropout\n",
        "from keras.layers import LSTM\n",
        "from keras.utils import to_categorical"
      ],
      "execution_count": null,
      "outputs": []
    },
    {
      "cell_type": "code",
      "metadata": {
        "id": "7sBQCPkLS1Bk"
      },
      "source": [
        "np.random.seed(2)"
      ],
      "execution_count": null,
      "outputs": []
    },
    {
      "cell_type": "code",
      "metadata": {
        "id": "eKCspZBnAWGr"
      },
      "source": [
        "arrc = scipy.io.loadmat(\"/content/drive/MyDrive/BED dataset/Features/Verification/ARRC.mat\")"
      ],
      "execution_count": null,
      "outputs": []
    },
    {
      "cell_type": "code",
      "metadata": {
        "id": "wQ9KdeC2SDKf"
      },
      "source": [
        "data = np.array(arrc['DATA'][0])"
      ],
      "execution_count": null,
      "outputs": []
    },
    {
      "cell_type": "code",
      "metadata": {
        "colab": {
          "base_uri": "https://localhost:8080/"
        },
        "id": "XJ9yUi-5SGhQ",
        "outputId": "efb03a09-b000-4db6-e9bc-4244e1bf5ca3"
      },
      "source": [
        "data.shape"
      ],
      "execution_count": null,
      "outputs": [
        {
          "output_type": "execute_result",
          "data": {
            "text/plain": [
              "(14876,)"
            ]
          },
          "metadata": {
            "tags": []
          },
          "execution_count": 5
        }
      ]
    },
    {
      "cell_type": "code",
      "metadata": {
        "id": "dEp3RF6dumgB"
      },
      "source": [
        "data = np.expand_dims(data, -1)"
      ],
      "execution_count": null,
      "outputs": []
    },
    {
      "cell_type": "code",
      "metadata": {
        "colab": {
          "base_uri": "https://localhost:8080/"
        },
        "id": "egjTZw3gupSf",
        "outputId": "9477282f-19ea-40d3-cab6-f3adf763ab64"
      },
      "source": [
        "data[0][0][0][0][0][2].shape"
      ],
      "execution_count": null,
      "outputs": [
        {
          "output_type": "execute_result",
          "data": {
            "text/plain": [
              "(17, 14)"
            ]
          },
          "metadata": {
            "tags": []
          },
          "execution_count": 7
        }
      ]
    },
    {
      "cell_type": "code",
      "metadata": {
        "colab": {
          "base_uri": "https://localhost:8080/"
        },
        "id": "Q44KEm5ESHcF",
        "outputId": "b4b76398-b679-4deb-d59b-9388eb0448da"
      },
      "source": [
        "data[0][0][3]"
      ],
      "execution_count": null,
      "outputs": [
        {
          "output_type": "execute_result",
          "data": {
            "text/plain": [
              "array([[1]], dtype=uint8)"
            ]
          },
          "metadata": {
            "tags": []
          },
          "execution_count": 8
        }
      ]
    },
    {
      "cell_type": "code",
      "metadata": {
        "colab": {
          "base_uri": "https://localhost:8080/"
        },
        "id": "Tn_ALCIgUNUp",
        "outputId": "344cda9f-57ad-4a09-eaec-57c04ed35c9e"
      },
      "source": [
        "data[1000][0][1][0][0]"
      ],
      "execution_count": null,
      "outputs": [
        {
          "output_type": "execute_result",
          "data": {
            "text/plain": [
              "23"
            ]
          },
          "metadata": {
            "tags": []
          },
          "execution_count": 47
        }
      ]
    },
    {
      "cell_type": "code",
      "metadata": {
        "colab": {
          "base_uri": "https://localhost:8080/"
        },
        "id": "9SP5-K3cAbRV",
        "outputId": "1b4e6974-4d48-4767-8ca6-213343f86dd2"
      },
      "source": [
        "print(data.shape)\n",
        "X = []\n",
        "y = []\n",
        "cnt = 0\n",
        "for row in data:\n",
        "    # print(row[0][0][0][0][2].shape)    #last index is stimuli\n",
        "    # print(len(row[0][0][0][0][2][11]))\n",
        "    # break\n",
        "    # temp = row[0][0][0][0][2][10:11]\n",
        "    # task_row = []\n",
        "    # for task_trial in temp:\n",
        "    #     task_trial_array = np.array(task_trial)\n",
        "    #     # print(task_trial_array)\n",
        "    #     task_row.append(task_trial_array)\n",
        "    # # print(np.array(task_row).shape)\n",
        "    # # break\n",
        "    # task_row = np.array(task_row)\n",
        "    # task_row = np.array(row[0][0][0][0][:10])\n",
        "    task_row = np.array(row[0][0][0][0][2])\n",
        "    # print(task_row.shape)\n",
        "    if task_row.shape[0] != 17:\n",
        "        continue\n",
        "    task_row.reshape(17, 14)\n",
        "    X.append(task_row)\n",
        "    if row[0][1][0][0] == 9:  #subject number\n",
        "        cnt += 1\n",
        "        y.append(1)\n",
        "    else:\n",
        "        y.append(0)\n",
        "\n",
        "X = np.array(X)\n",
        "y = np.array(y)\n",
        "# print(cnt)"
      ],
      "execution_count": null,
      "outputs": [
        {
          "output_type": "stream",
          "text": [
            "(14876, 1)\n"
          ],
          "name": "stdout"
        }
      ]
    },
    {
      "cell_type": "code",
      "metadata": {
        "colab": {
          "base_uri": "https://localhost:8080/"
        },
        "id": "xCU-Thw-KYio",
        "outputId": "1f3d3bb2-6d56-4c56-d7cb-16abf4e414ae"
      },
      "source": [
        "len(X)"
      ],
      "execution_count": null,
      "outputs": [
        {
          "output_type": "execute_result",
          "data": {
            "text/plain": [
              "14428"
            ]
          },
          "metadata": {
            "tags": []
          },
          "execution_count": 62
        }
      ]
    },
    {
      "cell_type": "code",
      "metadata": {
        "colab": {
          "base_uri": "https://localhost:8080/"
        },
        "id": "f9pa_DKqKa-L",
        "outputId": "68937abf-03c3-4941-df21-26b34c515d87"
      },
      "source": [
        "len(y)"
      ],
      "execution_count": null,
      "outputs": [
        {
          "output_type": "execute_result",
          "data": {
            "text/plain": [
              "14428"
            ]
          },
          "metadata": {
            "tags": []
          },
          "execution_count": 63
        }
      ]
    },
    {
      "cell_type": "code",
      "metadata": {
        "colab": {
          "base_uri": "https://localhost:8080/"
        },
        "id": "UBVhhaKJTiyh",
        "outputId": "c5466e03-ec7b-478d-c208-c4bb1a454190"
      },
      "source": [
        "y[0:100]"
      ],
      "execution_count": null,
      "outputs": [
        {
          "output_type": "execute_result",
          "data": {
            "text/plain": [
              "array([0, 0, 0, 0, 0, 0, 0, 0, 0, 0, 0, 0, 0, 0, 0, 0, 0, 0, 0, 0, 0, 0,\n",
              "       0, 0, 0, 0, 0, 0, 0, 0, 0, 0, 0, 0, 0, 0, 0, 0, 0, 0, 0, 0, 0, 0,\n",
              "       0, 0, 0, 0, 0, 0, 0, 0, 0, 0, 0, 0, 0, 0, 0, 0, 0, 0, 0, 0, 0, 0,\n",
              "       0, 0, 0, 0, 0, 0, 0, 0, 0, 0, 0, 0, 0, 0, 0, 0, 0, 0, 0, 0, 0, 0,\n",
              "       0, 0, 0, 0, 0, 0, 0, 0, 0, 0, 0, 0])"
            ]
          },
          "metadata": {
            "tags": []
          },
          "execution_count": 64
        }
      ]
    },
    {
      "cell_type": "code",
      "metadata": {
        "id": "mlueWG23AjJ7"
      },
      "source": [
        "X_train, X_test, y_train, y_test = train_test_split(X, y)\n",
        "X_train = np.array(X_train)\n",
        "y_train = to_categorical(np.array(y_train))\n",
        "X_test = np.array(X_test)\n",
        "y_test = to_categorical(np.array(y_test))"
      ],
      "execution_count": null,
      "outputs": []
    },
    {
      "cell_type": "code",
      "metadata": {
        "colab": {
          "base_uri": "https://localhost:8080/"
        },
        "id": "UwDaxv1bPKPu",
        "outputId": "0c38002a-24c2-4d4b-fd46-4eab47bc3770"
      },
      "source": [
        "X_train[0].shape"
      ],
      "execution_count": null,
      "outputs": [
        {
          "output_type": "execute_result",
          "data": {
            "text/plain": [
              "(17, 14)"
            ]
          },
          "metadata": {
            "tags": []
          },
          "execution_count": 66
        }
      ]
    },
    {
      "cell_type": "code",
      "metadata": {
        "colab": {
          "base_uri": "https://localhost:8080/"
        },
        "id": "3Em8JcHjQVUg",
        "outputId": "7b4115dc-0cd5-422b-bfcb-1119ae20b6d8"
      },
      "source": [
        "X_train.shape"
      ],
      "execution_count": null,
      "outputs": [
        {
          "output_type": "execute_result",
          "data": {
            "text/plain": [
              "(10821, 17, 14)"
            ]
          },
          "metadata": {
            "tags": []
          },
          "execution_count": 67
        }
      ]
    },
    {
      "cell_type": "code",
      "metadata": {
        "colab": {
          "base_uri": "https://localhost:8080/"
        },
        "id": "Ge5VS31tPppQ",
        "outputId": "fd728075-e7c9-47c9-e71e-a85969568131"
      },
      "source": [
        "y_train.shape"
      ],
      "execution_count": null,
      "outputs": [
        {
          "output_type": "execute_result",
          "data": {
            "text/plain": [
              "(10821, 2)"
            ]
          },
          "metadata": {
            "tags": []
          },
          "execution_count": 68
        }
      ]
    },
    {
      "cell_type": "code",
      "metadata": {
        "colab": {
          "base_uri": "https://localhost:8080/"
        },
        "id": "Pby2jOeeTTxu",
        "outputId": "1a40c8b6-d538-4494-fd56-ec332fcc5e5a"
      },
      "source": [
        "y_train[0:100]"
      ],
      "execution_count": null,
      "outputs": [
        {
          "output_type": "execute_result",
          "data": {
            "text/plain": [
              "array([[1., 0.],\n",
              "       [1., 0.],\n",
              "       [1., 0.],\n",
              "       [0., 1.],\n",
              "       [1., 0.],\n",
              "       [1., 0.],\n",
              "       [1., 0.],\n",
              "       [1., 0.],\n",
              "       [1., 0.],\n",
              "       [1., 0.],\n",
              "       [1., 0.],\n",
              "       [1., 0.],\n",
              "       [1., 0.],\n",
              "       [1., 0.],\n",
              "       [1., 0.],\n",
              "       [1., 0.],\n",
              "       [1., 0.],\n",
              "       [1., 0.],\n",
              "       [1., 0.],\n",
              "       [1., 0.],\n",
              "       [0., 1.],\n",
              "       [1., 0.],\n",
              "       [1., 0.],\n",
              "       [1., 0.],\n",
              "       [1., 0.],\n",
              "       [1., 0.],\n",
              "       [1., 0.],\n",
              "       [1., 0.],\n",
              "       [1., 0.],\n",
              "       [0., 1.],\n",
              "       [1., 0.],\n",
              "       [1., 0.],\n",
              "       [1., 0.],\n",
              "       [1., 0.],\n",
              "       [1., 0.],\n",
              "       [1., 0.],\n",
              "       [1., 0.],\n",
              "       [1., 0.],\n",
              "       [1., 0.],\n",
              "       [1., 0.],\n",
              "       [1., 0.],\n",
              "       [1., 0.],\n",
              "       [1., 0.],\n",
              "       [1., 0.],\n",
              "       [1., 0.],\n",
              "       [1., 0.],\n",
              "       [1., 0.],\n",
              "       [0., 1.],\n",
              "       [1., 0.],\n",
              "       [1., 0.],\n",
              "       [1., 0.],\n",
              "       [1., 0.],\n",
              "       [1., 0.],\n",
              "       [1., 0.],\n",
              "       [1., 0.],\n",
              "       [1., 0.],\n",
              "       [1., 0.],\n",
              "       [1., 0.],\n",
              "       [1., 0.],\n",
              "       [1., 0.],\n",
              "       [0., 1.],\n",
              "       [1., 0.],\n",
              "       [1., 0.],\n",
              "       [1., 0.],\n",
              "       [1., 0.],\n",
              "       [1., 0.],\n",
              "       [0., 1.],\n",
              "       [1., 0.],\n",
              "       [1., 0.],\n",
              "       [1., 0.],\n",
              "       [1., 0.],\n",
              "       [1., 0.],\n",
              "       [1., 0.],\n",
              "       [1., 0.],\n",
              "       [1., 0.],\n",
              "       [1., 0.],\n",
              "       [1., 0.],\n",
              "       [1., 0.],\n",
              "       [1., 0.],\n",
              "       [1., 0.],\n",
              "       [1., 0.],\n",
              "       [1., 0.],\n",
              "       [1., 0.],\n",
              "       [0., 1.],\n",
              "       [1., 0.],\n",
              "       [1., 0.],\n",
              "       [1., 0.],\n",
              "       [1., 0.],\n",
              "       [1., 0.],\n",
              "       [1., 0.],\n",
              "       [1., 0.],\n",
              "       [1., 0.],\n",
              "       [1., 0.],\n",
              "       [1., 0.],\n",
              "       [1., 0.],\n",
              "       [1., 0.],\n",
              "       [1., 0.],\n",
              "       [1., 0.],\n",
              "       [1., 0.],\n",
              "       [1., 0.]], dtype=float32)"
            ]
          },
          "metadata": {
            "tags": []
          },
          "execution_count": 69
        }
      ]
    },
    {
      "cell_type": "code",
      "metadata": {
        "id": "gPK1LQkKMB5C"
      },
      "source": [
        "n_timesteps, n_features, n_outputs = X_train[0].shape[0], X_train[0].shape[1], y_train.shape[1]\n",
        "model = Sequential()\n",
        "model.add(LSTM(100, input_shape=X_train[0].shape))\n",
        "model.add(Dropout(0.5))\n",
        "model.add(Dense(100, activation='relu'))\n",
        "model.add(Dense(n_outputs, activation='softmax'))\n",
        "model.compile(loss='binary_crossentropy', optimizer='adam', metrics=['accuracy'])"
      ],
      "execution_count": null,
      "outputs": []
    },
    {
      "cell_type": "code",
      "metadata": {
        "colab": {
          "base_uri": "https://localhost:8080/"
        },
        "id": "mZcZs7LqM83U",
        "outputId": "2d709964-f154-4562-869e-dac7679409b7"
      },
      "source": [
        "verbose, epochs, batch_size = 0, 15, 64\n",
        "model.fit(X_train, y_train, epochs=epochs, batch_size=batch_size, verbose=verbose)"
      ],
      "execution_count": null,
      "outputs": [
        {
          "output_type": "execute_result",
          "data": {
            "text/plain": [
              "<tensorflow.python.keras.callbacks.History at 0x7fb6f49d8f50>"
            ]
          },
          "metadata": {
            "tags": []
          },
          "execution_count": 71
        }
      ]
    },
    {
      "cell_type": "code",
      "metadata": {
        "id": "nhA_9L6Vyxc4"
      },
      "source": [
        "_, accuracy = model.evaluate(X_test, y_test, batch_size=batch_size, verbose=0)"
      ],
      "execution_count": null,
      "outputs": []
    },
    {
      "cell_type": "code",
      "metadata": {
        "colab": {
          "base_uri": "https://localhost:8080/"
        },
        "id": "HrTfQtq1y2RV",
        "outputId": "e3619f27-a93e-4a07-ebe0-a42861ed175c"
      },
      "source": [
        "accuracy"
      ],
      "execution_count": null,
      "outputs": [
        {
          "output_type": "execute_result",
          "data": {
            "text/plain": [
              "0.9603548645973206"
            ]
          },
          "metadata": {
            "tags": []
          },
          "execution_count": 73
        }
      ]
    },
    {
      "cell_type": "code",
      "metadata": {
        "id": "6PiScp3EVDhe"
      },
      "source": [
        "def get_data(subject_no, stimuli_no=2):\n",
        "    X = []\n",
        "    y = []\n",
        "    cnt = 0\n",
        "    for row in data:\n",
        "        task_row = np.array(row[0][0][0][0][stimuli_no]) #last index is stimuli\n",
        "        # print(task_row.shape)\n",
        "        if task_row.shape[0] != 17:\n",
        "            continue\n",
        "        task_row.reshape(17, 14)\n",
        "        X.append(task_row)\n",
        "        if row[0][1][0][0] == subject_no:  #subject number\n",
        "            cnt += 1\n",
        "            y.append(1)\n",
        "        else:\n",
        "            y.append(0)\n",
        "\n",
        "    X = np.array(X)\n",
        "    y = np.array(y)\n",
        "    return X, y"
      ],
      "execution_count": null,
      "outputs": []
    },
    {
      "cell_type": "code",
      "metadata": {
        "id": "LndX2dUcV1-j"
      },
      "source": [
        "def build_model(X_train, y_train):\n",
        "    n_timesteps, n_features, n_outputs = X_train[0].shape[0], X_train[0].shape[1], y_train.shape[1]\n",
        "    model = Sequential()\n",
        "    model.add(LSTM(100, input_shape=X_train[0].shape))\n",
        "    model.add(Dropout(0.5))\n",
        "    model.add(Dense(100, activation='relu'))\n",
        "    model.add(Dense(n_outputs, activation='softmax'))\n",
        "    model.compile(loss='binary_crossentropy', optimizer='adam', metrics=['accuracy'])\n",
        "    return model\n",
        "    /////////////////////////////////////////////////////////////////////////////////////////////////////////////////////////"
      ],
      "execution_count": null,
      "outputs": []
    },
    {
      "cell_type": "code",
      "metadata": {
        "colab": {
          "base_uri": "https://localhost:8080/"
        },
        "id": "luVYTFz7VdUe",
        "outputId": "0123f52b-80c2-413f-858d-3cad2b6d81e1"
      },
      "source": [
        "min_accuracy, avg_accuracy, max_accuracy = 1.0, 0.0, 0.0\n",
        "for sub in range(1, 22):\n",
        "    X, y = get_data(sub)\n",
        "    X_train, X_test, y_train, y_test = train_test_split(X, y)\n",
        "    X_train = np.array(X_train)\n",
        "    y_train = to_categorical(np.array(y_train))\n",
        "    X_test = np.array(X_test)\n",
        "    y_test = to_categorical(np.array(y_test))\n",
        "\n",
        "    model = build_model(X_train, y_train)\n",
        "    \n",
        "    verbose, epochs, batch_size = 0, 15, 64\n",
        "    model.fit(X_train, y_train, epochs=epochs, batch_size=batch_size, verbose=verbose)\n",
        "    \n",
        "    _, accuracy = model.evaluate(X_test, y_test, batch_size=batch_size, verbose=0)\n",
        "    min_accuracy = min(min_accuracy, accuracy)\n",
        "    max_accuracy = max(max_accuracy, accuracy)\n",
        "    avg_accuracy += accuracy/21\n",
        "\n",
        "print(\"min_accuracy: {0}\".format(min_accuracy))\n",
        "print(\"max_accuracy: {0}\".format(max_accuracy))\n",
        "print(\"avg_accuracy: {0}\".format(avg_accuracy))"
      ],
      "execution_count": null,
      "outputs": [
        {
          "output_type": "stream",
          "text": [
            "min_accuracy: 0.9459384679794312\n",
            "max_accuracy: 1.0\n",
            "avg_accuracy: 0.9719328795160567\n"
          ],
          "name": "stdout"
        }
      ]
    }
  ]
}